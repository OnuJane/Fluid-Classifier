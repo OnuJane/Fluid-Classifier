{
 "cells": [
  {
   "cell_type": "code",
   "execution_count": null,
   "id": "89c4f4b5",
   "metadata": {},
   "outputs": [],
   "source": [
    "#Here we are coding the different classes of crude oil\n"
   ]
  },
  {
   "cell_type": "code",
   "execution_count": 1,
   "id": "932d996e",
   "metadata": {},
   "outputs": [
    {
     "name": "stdout",
     "output_type": "stream",
     "text": [
      "\n",
      " Enter the Oil formation volume factor:1.4\n",
      "\n",
      " Enter the Gas Oil Ratio: 2800\n",
      "\n",
      " Enter the API Gravity: 40\n",
      "\n",
      " High Shrinkage Oil, with: \n",
      "API:40.0 Deg. \t GOR:2800.0 SCF/STB \t FVF:1.4 RB/STB\n"
     ]
    }
   ],
   "source": [
    "FVF = float(input(\"\\n Enter the Oil formation volume factor:\"))\n",
    "GOR = float(input(\"\\n Enter the Gas Oil Ratio: \"))\n",
    "API = float(input(\"\\n Enter the API Gravity: \"))\n",
    "\n",
    "\n",
    "if API < 45.0 and GOR < 2000 and FVF < 1.2:\n",
    "     print(f\"\\n Low Shrinkage Oil, with: \\nAPI:{API} Deg. \\t GOR:{GOR} SCF/STB \\t FVF:{FVF} RB/STB\")\n",
    "elif 40<= API <= 45 and 2000 <= GOR <= 3300 and 1.2<= FVF <= 1.5:\n",
    "    print(f\"\\n High Shrinkage Oil, with: \\nAPI:{API} Deg. \\t GOR:{GOR} SCF/STB \\t FVF:{FVF} RB/STB\")\n",
    "elif 45<= API <= 60 and 3300 <= GOR <= 150000 and 1.5<= FVF <= 2: \n",
    "    print(f\"\\n Condensate, with: \\nAPI:{API} Deg. \\t GOR:{GOR} SCF/STB \\t FVF:{FVF} RB/STB\")\n",
    "else: \n",
    "    print(\"The properties entered does not belong to any group of reservoir fluids\")\n",
    "    "
   ]
  },
  {
   "cell_type": "code",
   "execution_count": null,
   "id": "ab9aaf64",
   "metadata": {},
   "outputs": [],
   "source": [
    " "
   ]
  },
  {
   "cell_type": "code",
   "execution_count": null,
   "id": "94ee73b7",
   "metadata": {},
   "outputs": [],
   "source": []
  }
 ],
 "metadata": {
  "kernelspec": {
   "display_name": "Python 3 (ipykernel)",
   "language": "python",
   "name": "python3"
  },
  "language_info": {
   "codemirror_mode": {
    "name": "ipython",
    "version": 3
   },
   "file_extension": ".py",
   "mimetype": "text/x-python",
   "name": "python",
   "nbconvert_exporter": "python",
   "pygments_lexer": "ipython3",
   "version": "3.9.13"
  }
 },
 "nbformat": 4,
 "nbformat_minor": 5
}
